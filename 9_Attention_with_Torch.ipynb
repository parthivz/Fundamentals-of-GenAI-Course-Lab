{
 "cells": [
  {
   "cell_type": "markdown",
   "metadata": {
    "id": "r45tbR6lkYEa"
   },
   "source": [
    "# Attention with Frameworks\n",
    "\n",
    "© Data Trainers LLC. GPL v 3.0.\n",
    "\n",
    "Author: Axel Sirota"
   ]
  },
  {
   "cell_type": "markdown",
   "metadata": {
    "id": "hcU-PBR3kbaL"
   },
   "source": [
    "A whole new world opportunities appear when considering using the layer implementations of the attention components. As of July 2023 we have 1 layers implemented:\n",
    "\n",
    "- MultiHeadAttention: The general attention everyone uses and we will learn in this demo! It is basically many layers of self attention.\n",
    "\n",
    "Let's get to it!\n"
   ]
  },
  {
   "cell_type": "markdown",
   "metadata": {
    "id": "JsTW2QHimUlx"
   },
   "source": [
    "## Prep"
   ]
  },
  {
   "cell_type": "code",
   "execution_count": null,
   "metadata": {
    "colab": {
     "base_uri": "https://localhost:8080/"
    },
    "id": "C9BTEOu0PerV",
    "outputId": "842c5c42-0ab6-4ee2-f2b9-019b177b8d03"
   },
   "outputs": [],
   "source": [
    "!pip install --upgrade  textblob gensim pytorch-nlp swifter\n"
   ]
  },
  {
   "cell_type": "markdown",
   "metadata": {
    "id": "9H2IYs8QkXZd"
   },
   "source": [
    "Let's run some helper functions to setup using the GPUs"
   ]
  },
  {
   "cell_type": "code",
   "execution_count": null,
   "metadata": {
    "colab": {
     "base_uri": "https://localhost:8080/"
    },
    "id": "0fpgYwAtNO2T",
    "outputId": "99968411-df73-40f8-af32-68c218715578"
   },
   "outputs": [],
   "source": [
    "\n",
    "import torch\n",
    "import torch.nn as nn\n",
    "import torch.optim as optim\n",
    "import torch.nn.functional as F\n",
    "import itertools\n",
    "import sys\n",
    "from textblob import TextBlob, Word\n",
    "import numpy as np\n",
    "import random\n",
    "import re\n",
    "import swifter\n",
    "from torch.utils.data import TensorDataset\n",
    "from torch.utils.data import DataLoader\n",
    "\n",
    "import os\n",
    "import pandas as pd\n",
    "import gensim\n",
    "import warnings\n",
    "import nltk\n",
    "\n",
    "max_length = 100\n",
    "# Hyperparameters\n",
    "embedding_dim = 100  # embedding dimension\n",
    "hidden_dim = 100  # LSTM hidden dimensions\n",
    "num_layers = 1  # number of LSTM layers\n",
    "batch_size = 64  # batch size\n",
    "\n",
    "\n",
    "def set_seeds_and_trace():\n",
    "  os.environ['PYTHONHASHSEED'] = '0'\n",
    "  np.random.seed(42)\n",
    "  random.seed(42)\n",
    "\n",
    "device = torch.device('cuda:0' if torch.cuda.is_available() else 'cpu')\n",
    "set_seeds_and_trace()\n",
    "warnings.filterwarnings('ignore')\n",
    "nltk.download('punkt')\n",
    "textblob_tokenizer = lambda x: TextBlob(x).words\n"
   ]
  },
  {
   "cell_type": "markdown",
   "metadata": {
    "id": "uvVC_dlqmdf6"
   },
   "source": [
    "## Custom Attention"
   ]
  },
  {
   "cell_type": "markdown",
   "metadata": {
    "id": "ibxTc61LmmhK"
   },
   "source": [
    "The easiest way to test attention in PyTorch is to create a simple model that uses such a layer, we will do just that! This also shows how easy is to add attention to your models, which we will use extensively when creating THE Transformer from scratch"
   ]
  },
  {
   "cell_type": "markdown",
   "metadata": {
    "id": "oLbdmNwEoUM7"
   },
   "source": [
    "Notice we need a custom model class because the inputs needs to be the query and value, and they could have different embeddings as well."
   ]
  },
  {
   "cell_type": "code",
   "execution_count": null,
   "metadata": {
    "id": "36P0ESmxThvQ"
   },
   "outputs": [],
   "source": [
    "class DotProductAttention(nn.Module):\n",
    "    def __init__(self):\n",
    "        super().__init__()\n",
    "\n",
    "    def forward(self, query, key, value):\n",
    "        \"\"\"\n",
    "        Forward pass for the Dot Product Attention.\n",
    "\n",
    "        Args:\n",
    "        - query: A tensor of shape (batch_size, query_length, dimensions)\n",
    "        - key: A tensor of shape (batch_size, key_length, dimensions)\n",
    "        - value: A tensor of shape (batch_size, value_length, dimensions) where key_length == value_length\n",
    "\n",
    "        Returns:\n",
    "        - The context vector and the attention weights.\n",
    "        \"\"\"\n",
    "        # Calculate the scores\n",
    "        scores = None # Implement the logic based on what we did before!\n",
    "        # Apply the softmax to get attention weights\n",
    "        attention_weights = None\n",
    "        # Create the context vector\n",
    "        context = None\n",
    "        return context, attention_weights"
   ]
  },
  {
   "cell_type": "code",
   "execution_count": null,
   "metadata": {
    "id": "WpLSon3cNVvc"
   },
   "outputs": [],
   "source": [
    "batch_size = 2\n",
    "query_length = 20\n",
    "key_value_length = 10\n",
    "dimensions = 3"
   ]
  },
  {
   "cell_type": "code",
   "execution_count": null,
   "metadata": {
    "id": "CSRhli0ZWFxf"
   },
   "outputs": [],
   "source": [
    "model = DotProductAttention()"
   ]
  },
  {
   "cell_type": "markdown",
   "metadata": {
    "id": "eXOb_IEGqV2p"
   },
   "source": [
    "Oh no! We need to call the model, well that is simple let's simulate 3 sentences!"
   ]
  },
  {
   "cell_type": "code",
   "execution_count": null,
   "metadata": {
    "id": "Mtn3d4wwyEGU"
   },
   "outputs": [],
   "source": [
    "query = torch.randn(batch_size, query_length, dimensions)\n",
    "key = torch.randn(batch_size, key_value_length, dimensions)\n",
    "value = torch.randn(batch_size, key_value_length, dimensions)"
   ]
  },
  {
   "cell_type": "code",
   "execution_count": null,
   "metadata": {
    "id": "8ngnlesuSTyC"
   },
   "outputs": [],
   "source": [
    "context, attention_weights = model(query, key, value)"
   ]
  },
  {
   "cell_type": "code",
   "execution_count": null,
   "metadata": {
    "colab": {
     "base_uri": "https://localhost:8080/"
    },
    "id": "bZCFervbyf7i",
    "outputId": "748e0960-1792-4503-dc60-0aa86fecb229"
   },
   "outputs": [],
   "source": [
    "context.shape"
   ]
  },
  {
   "cell_type": "code",
   "execution_count": null,
   "metadata": {
    "colab": {
     "base_uri": "https://localhost:8080/"
    },
    "id": "b7XwdtA14Gjw",
    "outputId": "c03c6a3c-6d0c-42c6-bb3e-dd5c8798931d"
   },
   "outputs": [],
   "source": [
    "attention_weights.shape"
   ]
  },
  {
   "cell_type": "markdown",
   "metadata": {
    "id": "nWQHcNquqfVK"
   },
   "source": [
    "Notice that attention adds very few parameters, adds many knowledge to the following layers, and is paralellizable."
   ]
  },
  {
   "cell_type": "markdown",
   "metadata": {
    "id": "A5y1okQ9QJ48"
   },
   "source": [
    "## MultiHead Attention"
   ]
  },
  {
   "cell_type": "markdown",
   "metadata": {
    "id": "bakdsYuhqogu"
   },
   "source": [
    "Now you are ready to see Multi Head Attention. The idea is quite simple, as in CNNs we had many filters and each convolution checked many different aspects of an image, having many self attentions can check different aspects of our entity, globally. In image it is:\n",
    "\n",
    "<figure>\n",
    "<center>\n",
    "<img src='https://www.dropbox.com/s/wjfxpap06viclhv/mha.png?raw=1'  />\n",
    "<figcaption>Attention</figcaption></center>\n",
    "</figure>"
   ]
  },
  {
   "cell_type": "markdown",
   "metadata": {
    "id": "S4tqYQY3rPCJ"
   },
   "source": [
    "Each head performs Scaled attention as we did before with the weird formula, and then we concatenate!"
   ]
  },
  {
   "cell_type": "code",
   "execution_count": null,
   "metadata": {
    "id": "3zdglUVG5n2I"
   },
   "outputs": [],
   "source": [
    "embed_size = 4  # Embedding size\n",
    "num_heads = 2   # Number of attention heads\n",
    "sequence_length = 3  # Sequence length for each input\n",
    "batch_size = 1  # Batch size"
   ]
  },
  {
   "cell_type": "code",
   "execution_count": null,
   "metadata": {
    "id": "7TqMEi2gQNFZ"
   },
   "outputs": [],
   "source": [
    "class MultiHeadAttentionModel(nn.Module):\n",
    "    def __init__(self, embed_size, num_heads):\n",
    "        super(MultiHeadAttentionModel, self).__init__()\n",
    "        self.multihead_attn = None # Set the nn.MultiHeadedAttention module\n",
    "\n",
    "    def forward(self, query, key, value):\n",
    "        # In practice, attention is often applied to a sequence of embeddings with padding.\n",
    "        # Attention mask could be used to ignore the padding or past/future tokens.\n",
    "        # Here we do not use such masks for simplicity.\n",
    "\n",
    "        # MultiheadAttention requires the input of shape (sequence_length, batch_size, embed_size)\n",
    "        query = query.transpose(0, 1)  # Transpose for the multihead attention input requirements\n",
    "        key = key.transpose(0, 1)\n",
    "        value = value.transpose(0, 1)\n",
    "\n",
    "        # Forward pass of the multihead attention\n",
    "        # attn_output is the attention applied embeddings (context vectors)\n",
    "        # attn_output_weights are the attention weights\n",
    "        attn_output, attn_output_weights = None\n",
    "        return attn_output, attn_output_weights\n"
   ]
  },
  {
   "cell_type": "code",
   "execution_count": null,
   "metadata": {
    "id": "HyWkokOtw6GW"
   },
   "outputs": [],
   "source": [
    "# Initialize the model\n",
    "multihead_attn_model = MultiHeadAttentionModel(embed_size, num_heads)\n",
    "\n",
    "# Dummy data with sequence first format\n",
    "query = torch.randn(sequence_length, batch_size, embed_size)\n",
    "key = torch.randn(sequence_length, batch_size, embed_size)\n",
    "value = torch.randn(sequence_length, batch_size, embed_size)\n"
   ]
  },
  {
   "cell_type": "code",
   "execution_count": null,
   "metadata": {
    "id": "vXhcalSwxF9a"
   },
   "outputs": [],
   "source": [
    "# Forward pass\n",
    "attn_output, attn_output_weights = multihead_attn_model(query, key, value)\n"
   ]
  },
  {
   "cell_type": "code",
   "execution_count": null,
   "metadata": {
    "colab": {
     "base_uri": "https://localhost:8080/"
    },
    "id": "HW4raKPVxPNj",
    "outputId": "ffbeedf2-f9e2-46a1-9834-b740ccc82462"
   },
   "outputs": [],
   "source": [
    "# Transpose back to (batch_size, sequence_length, embed_size) for the output\n",
    "attn_output = attn_output.transpose(0, 1)\n",
    "\n",
    "attn_output, attn_output_weights"
   ]
  },
  {
   "cell_type": "code",
   "execution_count": null,
   "metadata": {
    "colab": {
     "base_uri": "https://localhost:8080/"
    },
    "id": "HelBLsdnxbL7",
    "outputId": "b54c02a4-ac61-4897-8d09-e593e3cb2cce"
   },
   "outputs": [],
   "source": [
    "attn_output.shape"
   ]
  },
  {
   "cell_type": "code",
   "execution_count": null,
   "metadata": {
    "colab": {
     "base_uri": "https://localhost:8080/"
    },
    "id": "eqVlDZGC5zja",
    "outputId": "fc1a4b96-ae61-4258-ae7b-184079525759"
   },
   "outputs": [],
   "source": [
    "attn_output_weights.shape"
   ]
  },
  {
   "cell_type": "code",
   "execution_count": null,
   "metadata": {
    "id": "FbR44Su86N9h"
   },
   "outputs": [],
   "source": []
  },
  {
   "cell_type": "markdown",
   "metadata": {
    "id": "NrYWnu1RsQWS"
   },
   "source": [
    "**Can you guess each value in the response.shape where does it come from?**"
   ]
  },
  {
   "cell_type": "markdown",
   "metadata": {
    "id": "n-KQ5uhrsfmB"
   },
   "source": [
    "Again, notice Attention as complex as multi head attention did not add many params and adds a lot lexical intelligence."
   ]
  },
  {
   "cell_type": "code",
   "execution_count": null,
   "metadata": {
    "id": "C3oKCxnNXCot"
   },
   "outputs": [],
   "source": []
  }
 ],
 "metadata": {
  "colab": {
   "provenance": []
  },
  "kernelspec": {
   "display_name": "Python 3 (ipykernel)",
   "language": "python",
   "name": "python3"
  },
  "language_info": {
   "codemirror_mode": {
    "name": "ipython",
    "version": 3
   },
   "file_extension": ".py",
   "mimetype": "text/x-python",
   "name": "python",
   "nbconvert_exporter": "python",
   "pygments_lexer": "ipython3",
   "version": "3.10.6"
  }
 },
 "nbformat": 4,
 "nbformat_minor": 1
}