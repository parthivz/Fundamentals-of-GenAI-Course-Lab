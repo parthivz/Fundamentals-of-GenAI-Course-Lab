{
  "cells": [
    {
      "cell_type": "markdown",
      "metadata": {
        "id": "view-in-github",
        "colab_type": "text"
      },
      "source": [
        "<a href=\"https://colab.research.google.com/github/parthivz/Fundamentals-of-GenAI-Course-Lab/blob/main/PyTorch_4_Exercise_Classifier_nnLinear.ipynb\" target=\"_parent\"><img src=\"https://colab.research.google.com/assets/colab-badge.svg\" alt=\"Open In Colab\"/></a>"
      ]
    },
    {
      "cell_type": "markdown",
      "metadata": {
        "id": "KApsqFZJ01Qf"
      },
      "source": [
        "## Implement a binary classifier with `torch.nn.Linear`"
      ]
    },
    {
      "cell_type": "code",
      "execution_count": 2,
      "metadata": {
        "id": "dmp7MeGdrhrQ"
      },
      "outputs": [],
      "source": [
        "import torch as pt\n",
        "from torch import nn\n",
        "import matplotlib.pyplot as plt\n",
        "%matplotlib inline\n",
        "pt.manual_seed(42);"
      ]
    },
    {
      "cell_type": "markdown",
      "metadata": {
        "id": "mmEHSihL2sza"
      },
      "source": [
        "## Start by practicing boolean operations on boolean tensors. Don't worry, there is a point to this exercise :)"
      ]
    },
    {
      "cell_type": "code",
      "execution_count": 4,
      "metadata": {
        "id": "KBmpRhNF3HOY",
        "outputId": "7f72fd9c-e368-40cf-9648-9bde7a7987a7",
        "colab": {
          "base_uri": "https://localhost:8080/"
        }
      },
      "outputs": [
        {
          "output_type": "stream",
          "name": "stdout",
          "text": [
            "tensor([ 0.5349,  0.8094,  1.1103, -1.6898, -0.9890,  0.9580,  1.3221,  0.8172,\n",
            "        -0.7658, -0.7506])\n"
          ]
        }
      ],
      "source": [
        "# Generate a random tensor\n",
        "a = pt.randn(10)\n",
        "print(a)\n",
        "\n",
        "\n"
      ]
    },
    {
      "cell_type": "markdown",
      "metadata": {
        "id": "5utZcdWV3VGb"
      },
      "source": [
        "## Create a boolean tensor named `b` by converting the `a` tensor such that `b` holds `True` for positive values of `a` and `False` for negative and zero values of `a`\n",
        "* **hint:** `b` must have the same shape as `a`"
      ]
    },
    {
      "cell_type": "code",
      "execution_count": 5,
      "metadata": {
        "id": "Okp6Efba3dMz",
        "outputId": "3801ed8d-cc4d-4ff8-8d50-96870e4d81bd",
        "colab": {
          "base_uri": "https://localhost:8080/"
        }
      },
      "outputs": [
        {
          "output_type": "stream",
          "name": "stdout",
          "text": [
            "tensor([ True,  True,  True, False, False,  True,  True,  True, False, False])\n"
          ]
        }
      ],
      "source": [
        "\n",
        "# Create boolean tensor b (True if a > 0, else False)\n",
        "b = a > 0\n",
        "print(b)"
      ]
    },
    {
      "cell_type": "markdown",
      "metadata": {
        "id": "2dGzRPmD4jE0"
      },
      "source": [
        "## Create another boolean tensor named `c` with values that are the opposite of `b`\n",
        "* **hint:** you can use a different logical expression with the values of the `a` tensor or use the `~` operator"
      ]
    },
    {
      "cell_type": "code",
      "execution_count": 6,
      "metadata": {
        "id": "zr0LnN4A5TGP",
        "outputId": "04e610a9-e22f-41ba-ea4f-9d9f701b6207",
        "colab": {
          "base_uri": "https://localhost:8080/"
        }
      },
      "outputs": [
        {
          "output_type": "stream",
          "name": "stdout",
          "text": [
            "tensor([False, False, False,  True,  True, False, False, False,  True,  True])\n"
          ]
        }
      ],
      "source": [
        "# Create boolean tensor c (opposite of b)\n",
        "c = ~b\n",
        "print(c)\n"
      ]
    },
    {
      "cell_type": "markdown",
      "metadata": {
        "id": "_Av-i_EK5vEY"
      },
      "source": [
        "## Create 2 tensors that are the logical `and` as well as `or` of `b` and `c`. For each of the tensors, count the number of the `True` values in the tensor\n",
        "* **hint:** in Python `&` is the logical `and` while `|` is the logical `or`"
      ]
    },
    {
      "cell_type": "code",
      "execution_count": 7,
      "metadata": {
        "id": "UesE1_mB6cqP",
        "outputId": "dec8265e-c08f-4e3b-ecab-990ab269e4d9",
        "colab": {
          "base_uri": "https://localhost:8080/"
        }
      },
      "outputs": [
        {
          "output_type": "stream",
          "name": "stdout",
          "text": [
            "True values in AND: 0\n",
            "True values in OR: 10\n"
          ]
        }
      ],
      "source": [
        "# Logical AND and OR\n",
        "logical_and = b & c\n",
        "logical_or = b | c\n",
        "\n",
        "# Count True values\n",
        "print(f\"True values in AND: {logical_and.sum().item()}\")\n",
        "print(f\"True values in OR: {logical_or.sum().item()}\")\n"
      ]
    },
    {
      "cell_type": "markdown",
      "metadata": {
        "id": "7QLRwWfc8Gnn"
      },
      "source": [
        "## Create a tensor named `d` by concatenating `b` and `c` using the `pt.cat` method that takes a list of tensors"
      ]
    },
    {
      "cell_type": "code",
      "execution_count": 8,
      "metadata": {
        "id": "lcn5gWdJ7hKG",
        "outputId": "37771024-f29f-4af7-ea9d-1ec16b0b5a11",
        "colab": {
          "base_uri": "https://localhost:8080/"
        }
      },
      "outputs": [
        {
          "output_type": "stream",
          "name": "stdout",
          "text": [
            "torch.Size([20])\n"
          ]
        }
      ],
      "source": [
        "# Concatenate b and c\n",
        "d = pt.cat([b, c])\n",
        "print(d.shape)  # Should be [20]\n",
        "\n"
      ]
    },
    {
      "cell_type": "markdown",
      "metadata": {
        "id": "iqbFZBxG9gpS"
      },
      "source": [
        "## Reshape the `d` tensor to be 3 dimensional with the shape of `[5, 2, 2]` and save the result to tensor `e`"
      ]
    },
    {
      "cell_type": "code",
      "execution_count": 9,
      "metadata": {
        "id": "RflaCvMj6ySe",
        "outputId": "f6e4e2ec-d0a4-46a9-f174-12a3b593d036",
        "colab": {
          "base_uri": "https://localhost:8080/"
        }
      },
      "outputs": [
        {
          "output_type": "stream",
          "name": "stdout",
          "text": [
            "torch.Size([5, 2, 2])\n"
          ]
        }
      ],
      "source": [
        "# Reshape into 3D tensor [5, 2, 2]\n",
        "e = d.reshape(5, 2, 2)\n",
        "print(e.shape)  # Should be [5, 2, 2]\n"
      ]
    },
    {
      "cell_type": "markdown",
      "metadata": {
        "id": "EnXD_VV1_huL"
      },
      "source": [
        "# Create a tensor `f` that contains the sum of the number of the `True` values along the last (trailing) dimension of the `e` tensor while keeping the original dimensions\n",
        "* **hint:** check out the `keepdims` parameter"
      ]
    },
    {
      "cell_type": "code",
      "execution_count": 10,
      "metadata": {
        "id": "3_fn5Sdr_a6v",
        "outputId": "f57eef02-a3fe-49bb-e912-f72bb05bfeee",
        "colab": {
          "base_uri": "https://localhost:8080/"
        }
      },
      "outputs": [
        {
          "output_type": "stream",
          "name": "stdout",
          "text": [
            "torch.Size([5, 2, 1])\n"
          ]
        }
      ],
      "source": [
        "# Sum along the last dimension while keeping dimensions\n",
        "f = e.sum(dim=-1, keepdim=True)\n",
        "print(f.shape)  # Should be [5, 2, 1]\n",
        "\n"
      ]
    },
    {
      "cell_type": "markdown",
      "metadata": {
        "id": "moUBPp-AATrs"
      },
      "source": [
        "## Use the `squeeze` method on the tensor with the sum of the `True` values and confirm that its shape changed to 2 dimensions instead of 3"
      ]
    },
    {
      "cell_type": "code",
      "execution_count": 11,
      "metadata": {
        "id": "JMOkXLXT_6Vm",
        "outputId": "d25fbc64-22e8-4e7f-ba56-520c47c94028",
        "colab": {
          "base_uri": "https://localhost:8080/"
        }
      },
      "outputs": [
        {
          "output_type": "stream",
          "name": "stdout",
          "text": [
            "torch.Size([5, 2])\n"
          ]
        }
      ],
      "source": [
        "# Remove singleton dimensions\n",
        "f_squeezed = f.squeeze()\n",
        "print(f_squeezed.shape)  # Should be [5, 2]\n"
      ]
    },
    {
      "cell_type": "markdown",
      "metadata": {
        "id": "RlgdZVnABcAH"
      },
      "source": [
        "The `squeeze` method is useful when you need to reduce the dimension of a tensor that has one or more dimensions of length `1`. For example, if you have a tensor with a shape [3, 1, 4], the 2nd dimension can be `squeeze`d to `[3,4]`"
      ]
    },
    {
      "cell_type": "markdown",
      "metadata": {
        "id": "_MCyLxebB9LR"
      },
      "source": [
        "## Next, get started on generating data for your spam/not-spam classification problem"
      ]
    },
    {
      "cell_type": "code",
      "execution_count": 12,
      "metadata": {
        "id": "z-kGIZzWrmzr",
        "outputId": "7f1ccb0b-6129-4170-96fc-79cd6634d69f",
        "colab": {
          "base_uri": "https://localhost:8080/",
          "height": 435
        }
      },
      "outputs": [
        {
          "output_type": "display_data",
          "data": {
            "text/plain": [
              "<Figure size 640x480 with 1 Axes>"
            ],
            "image/png": "[encoded data removed]"
          },
          "metadata": {}
        }
      ],
      "source": [
        "NUM = 50\n",
        "\n",
        "# Spam data points\n",
        "Xs = pt.normal(0, 2, [NUM, 2]) - 3\n",
        "plt.scatter(Xs[:, 0], Xs[:, 1], color='orange', label=\"Spam\")\n",
        "\n",
        "# Not spam data points\n",
        "Xns = pt.normal(0, 3, [NUM, 2]) + 3\n",
        "plt.scatter(Xns[:, 0], Xns[:, 1], color='blue', label=\"Not Spam\")\n",
        "\n",
        "plt.xlim([-10, 10])\n",
        "plt.ylim([-10, 10])\n",
        "plt.legend()\n",
        "plt.show()\n"
      ]
    },
    {
      "cell_type": "markdown",
      "metadata": {
        "id": "WBWgnbGeC4h6"
      },
      "source": [
        "## Create a tensor array `X` with spam and not spam data values having the shape `[100, 2]`"
      ]
    },
    {
      "cell_type": "code",
      "execution_count": 13,
      "metadata": {
        "id": "QYPhxguvDJis",
        "outputId": "35aeb2f6-e5f5-4591-f863-0428aef4c24b",
        "colab": {
          "base_uri": "https://localhost:8080/"
        }
      },
      "outputs": [
        {
          "output_type": "execute_result",
          "data": {
            "text/plain": [
              "torch.Size([100, 2])"
            ]
          },
          "metadata": {},
          "execution_count": 13
        }
      ],
      "source": [
        "X = pt.cat([Xs, Xns])\n",
        "X.shape"
      ]
    },
    {
      "cell_type": "markdown",
      "metadata": {
        "id": "Ht3jX5ZlCj4G"
      },
      "source": [
        "## Create a `y` tensor with positive/negative values for the spam/not spam data in the `X` tensor. Let's have `1` be spam, and `-1` not spam."
      ]
    },
    {
      "cell_type": "code",
      "execution_count": 14,
      "metadata": {
        "id": "ZJvNGiFtCuCv",
        "outputId": "43884bd3-206b-4c0a-ffc9-565a4e655768",
        "colab": {
          "base_uri": "https://localhost:8080/"
        }
      },
      "outputs": [
        {
          "output_type": "stream",
          "name": "stdout",
          "text": [
            "torch.Size([100])\n"
          ]
        }
      ],
      "source": [
        "y = pt.cat([pt.ones(NUM), -pt.ones(NUM)])\n",
        "print(y.shape)  # Should be [100]\n"
      ]
    },
    {
      "cell_type": "markdown",
      "metadata": {
        "id": "3ro8DSuBDi04"
      },
      "source": [
        "## Create a model using `nn.Linear`. Disable the `bias` term in the model."
      ]
    },
    {
      "cell_type": "code",
      "execution_count": 15,
      "metadata": {
        "id": "rYp7vRYghrqU"
      },
      "outputs": [],
      "source": [
        "# Define a binary classifier model with no bias\n",
        "model = nn.Linear(2, 1, bias=False).double()\n"
      ]
    },
    {
      "cell_type": "markdown",
      "metadata": {
        "id": "l9Tk11LMDtHv"
      },
      "source": [
        "## Implement the `forward` method for the model. Don't forget to check the shape of your predictions!"
      ]
    },
    {
      "cell_type": "code",
      "execution_count": 19,
      "metadata": {
        "id": "2JkmCBwTbav5",
        "outputId": "3f2718ae-5409-44ab-8c25-9d162b6db7f6",
        "colab": {
          "base_uri": "https://localhost:8080/"
        }
      },
      "outputs": [
        {
          "output_type": "stream",
          "name": "stdout",
          "text": [
            "torch.Size([100, 1])\n"
          ]
        }
      ],
      "source": [
        "# Forward pass\n",
        "X = X.double()  # Ensure X is double\n",
        "y = y.double()  # Ensure y is double\n",
        "X_bias = X.double()  # Convert to double\n",
        "w_analytical = pt.inverse(X_bias.T @ X_bias) @ X_bias.T @ y\n",
        "\n",
        "y_pred = model(X)\n",
        "print(y_pred.shape)  # Should be [100, 1]\n"
      ]
    },
    {
      "cell_type": "markdown",
      "metadata": {
        "id": "Y1hPEBuCD5if"
      },
      "source": [
        "## Implement the `loss` method to return the mean squared error of your predictions"
      ]
    },
    {
      "cell_type": "code",
      "execution_count": 20,
      "metadata": {
        "id": "4MjJOaXrjv0X",
        "outputId": "9fa4da14-b39d-4dd0-8a87-996e10e2997a",
        "colab": {
          "base_uri": "https://localhost:8080/"
        }
      },
      "outputs": [
        {
          "output_type": "stream",
          "name": "stdout",
          "text": [
            "Initial Loss: 14.639837253101868\n"
          ]
        }
      ],
      "source": [
        "# Mean Squared Error (MSE) loss function\n",
        "def loss_fn(y_pred, y_true):\n",
        "    return ((y_pred.view(-1) - y_true) ** 2).mean()\n",
        "\n",
        "# Compute initial loss\n",
        "loss = loss_fn(y_pred, y)\n",
        "print(f\"Initial Loss: {loss.item()}\")\n"
      ]
    },
    {
      "cell_type": "markdown",
      "metadata": {
        "id": "M2pgNUzxEDpA"
      },
      "source": [
        "## Implement a `metric` method that takes the model predictions and the actual values and returns the accuracy (i.e. percentage correct) for the predictions."
      ]
    },
    {
      "cell_type": "code",
      "execution_count": 21,
      "metadata": {
        "id": "xo7B5TGHdLnf",
        "outputId": "e92a9f90-0ceb-4d54-f200-865063ff4ceb",
        "colab": {
          "base_uri": "https://localhost:8080/"
        }
      },
      "outputs": [
        {
          "output_type": "stream",
          "name": "stdout",
          "text": [
            "Initial Accuracy: 7.00%\n"
          ]
        }
      ],
      "source": [
        "# Compute accuracy\n",
        "def accuracy(y_pred, y_true):\n",
        "    return ((y_pred.view(-1) > 0) == (y_true > 0)).float().mean()\n",
        "\n",
        "print(f\"Initial Accuracy: {accuracy(y_pred, y).item():.2%}\")\n"
      ]
    },
    {
      "cell_type": "markdown",
      "metadata": {
        "id": "9gC-y0kyESBh"
      },
      "source": [
        "## Implement a `for` loop that does 10 iterations of gradient descent, printing out the MSE and the accurary for each iteration\n",
        "* **hint:** don't forget to use `zero_grad` function with your model\n",
        "* **hint:** update the weights using the `weight.data` attribute of your model"
      ]
    },
    {
      "cell_type": "code",
      "execution_count": 22,
      "metadata": {
        "id": "r9AwQRHLgPzk",
        "outputId": "6e6b9d5b-1399-4849-d4b6-6dcb8ee15d6e",
        "colab": {
          "base_uri": "https://localhost:8080/"
        }
      },
      "outputs": [
        {
          "output_type": "stream",
          "name": "stdout",
          "text": [
            "Epoch 1: MSE = 14.6398, Accuracy = 7.00%\n",
            "Epoch 2: MSE = 105.6412, Accuracy = 92.00%\n",
            "Epoch 3: MSE = 778.8839, Accuracy = 8.00%\n",
            "Epoch 4: MSE = 5755.2227, Accuracy = 92.00%\n",
            "Epoch 5: MSE = 42538.1096, Accuracy = 8.00%\n",
            "Epoch 6: MSE = 314420.8724, Accuracy = 92.00%\n",
            "Epoch 7: MSE = 2324057.4929, Accuracy = 8.00%\n",
            "Epoch 8: MSE = 17178398.7771, Accuracy = 92.00%\n",
            "Epoch 9: MSE = 126975091.7374, Accuracy = 8.00%\n",
            "Epoch 10: MSE = 938543478.0001, Accuracy = 92.00%\n"
          ]
        }
      ],
      "source": [
        "# Learning rate\n",
        "lr = 0.1\n",
        "\n",
        "# Train for 10 iterations\n",
        "for epoch in range(10):\n",
        "    # Forward pass\n",
        "    y_pred = model(X)\n",
        "\n",
        "    # Compute loss\n",
        "    loss = loss_fn(y_pred, y)\n",
        "\n",
        "    # Compute accuracy\n",
        "    acc = accuracy(y_pred, y)\n",
        "\n",
        "    # Zero gradients\n",
        "    model.zero_grad()\n",
        "\n",
        "    # Backpropagation\n",
        "    loss.backward()\n",
        "\n",
        "    # Update weights manually\n",
        "    with pt.no_grad():\n",
        "        model.weight.data -= lr * model.weight.grad\n",
        "\n",
        "    print(f\"Epoch {epoch + 1}: MSE = {loss.item():.4f}, Accuracy = {acc.item():.2%}\")\n"
      ]
    },
    {
      "cell_type": "markdown",
      "metadata": {
        "id": "pBGeWA4NF3lE"
      },
      "source": [
        "## Re-render the original scatter plot with spam/not spam data points and add the decision boundary line on the plot.\n",
        "\n",
        "* **hint:** to pass tensors to `plt.plot` you need to convert them to `numpy` arrays using `.detach().numpy()`"
      ]
    },
    {
      "cell_type": "code",
      "execution_count": 23,
      "metadata": {
        "id": "kfJ04tp7kZRR",
        "outputId": "20913817-9541-4eec-ae85-54a9e5a989d7",
        "colab": {
          "base_uri": "https://localhost:8080/",
          "height": 435
        }
      },
      "outputs": [
        {
          "output_type": "display_data",
          "data": {
            "text/plain": [
              "<Figure size 640x480 with 1 Axes>"
            ],
            "image/png": "[encoded data removed]"
          },
          "metadata": {}
        }
      ],
      "source": [
        "# Plot data points\n",
        "plt.scatter(Xs[:, 0], Xs[:, 1], color='orange', label=\"Spam\")\n",
        "plt.scatter(Xns[:, 0], Xns[:, 1], color='blue', label=\"Not Spam\")\n",
        "\n",
        "# Plot decision boundary\n",
        "xs = pt.linspace(-8, 8, 100).detach().numpy()\n",
        "ys = model.weight.data[0, 0].item() * xs + model.weight.data[0, 1].item()\n",
        "plt.plot(xs, ys, color='black', linewidth=2)\n",
        "\n",
        "plt.ylim([-10, 10])\n",
        "plt.xlim([-10, 10])\n",
        "plt.legend()\n",
        "plt.show()\n"
      ]
    },
    {
      "cell_type": "markdown",
      "metadata": {
        "id": "xe7a6dsWFMOI"
      },
      "source": [
        "## Compare the weights discovered by gradient descent to the weights according to the analytical solution for the problem\n",
        "* you need the formula $ (X^T X)^{-1}X^Ty $\n",
        "* **hint:** use `@` for tensor multiplication"
      ]
    },
    {
      "cell_type": "code",
      "execution_count": 24,
      "metadata": {
        "id": "m_fQVSOfhZzx",
        "pycharm": {
          "name": "#%%\n"
        },
        "outputId": "dbc76232-ed9b-46ce-c43f-2bc90dc4415b",
        "colab": {
          "base_uri": "https://localhost:8080/"
        }
      },
      "outputs": [
        {
          "output_type": "stream",
          "name": "stdout",
          "text": [
            "Analytical Weights: tensor([-0.0992, -0.1716], dtype=torch.float64)\n",
            "Gradient Descent Weights: tensor([13721.3099, 13594.7567], dtype=torch.float64)\n"
          ]
        }
      ],
      "source": [
        "# Compute (X^T * X)^(-1) * X^T * y\n",
        "X_bias = X  # No bias term\n",
        "w_analytical = pt.inverse(X_bias.T @ X_bias) @ X_bias.T @ y\n",
        "print(f\"Analytical Weights: {w_analytical}\")\n",
        "print(f\"Gradient Descent Weights: {model.weight.data.view(-1)}\")\n"
      ]
    },
    {
      "cell_type": "code",
      "source": [],
      "metadata": {
        "id": "vJ-jX9uY9CHJ"
      },
      "execution_count": null,
      "outputs": []
    }
  ],
  "metadata": {
    "colab": {
      "name": "Exercise_Classifier_nnLinear.ipynb",
      "provenance": [],
      "include_colab_link": true
    },
    "kernelspec": {
      "display_name": "Python 3 (ipykernel)",
      "language": "python",
      "name": "python3"
    },
    "language_info": {
      "codemirror_mode": {
        "name": "ipython",
        "version": 3
      },
      "file_extension": ".py",
      "mimetype": "text/x-python",
      "name": "python",
      "nbconvert_exporter": "python",
      "pygments_lexer": "ipython3",
      "version": "3.9.1"
    }
  },
  "nbformat": 4,
  "nbformat_minor": 0
}