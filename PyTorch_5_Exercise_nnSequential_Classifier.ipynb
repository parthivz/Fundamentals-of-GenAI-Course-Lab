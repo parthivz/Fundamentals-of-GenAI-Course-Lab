{
  "cells": [
    {
      "cell_type": "markdown",
      "metadata": {
        "id": "view-in-github",
        "colab_type": "text"
      },
      "source": [
        "<a href=\"https://colab.research.google.com/github/parthivz/Fundamentals-of-GenAI-Course-Lab/blob/main/PyTorch_5_Exercise_nnSequential_Classifier.ipynb\" target=\"_parent\"><img src=\"https://colab.research.google.com/assets/colab-badge.svg\" alt=\"Open In Colab\"/></a>"
      ]
    },
    {
      "cell_type": "markdown",
      "metadata": {
        "id": "vFnCDm9kpdW4"
      },
      "source": [
        "## Classify the concentric circles dataset using a not-so-deep neural network with non-linear activations"
      ]
    },
    {
      "cell_type": "markdown",
      "metadata": {
        "id": "dj5FZd7kpo6s"
      },
      "source": [
        "The following has your usual imports along with the data generation `circle` and data visualization `decision_boundary` functions predefined for you. You'll start by learning about `circle` and progress to learning about `decision_boundary` later, towards the end of the notebook."
      ]
    },
    {
      "cell_type": "code",
      "execution_count": 20,
      "metadata": {
        "id": "Xc1d4ZuFCmgW"
      },
      "outputs": [],
      "source": [
        "import torch as pt\n",
        "from torch import nn\n",
        "import matplotlib.pyplot as plt\n",
        "import math\n",
        "%matplotlib inline\n",
        "pt.manual_seed(1337);\n",
        "\n",
        "def circle(points = 100, radius_lower = 9., radius_upper = 10.):\n",
        "  radius = pt.zeros(points).uniform_(radius_lower, radius_upper)\n",
        "  angle = pt.zeros(points).uniform_(0, 2 * math.pi)\n",
        "\n",
        "  x = radius * pt.sin(angle)\n",
        "  y = radius * pt.cos(angle)\n",
        "\n",
        "  return x,y\n",
        "\n",
        "def decision_boundary(forward_fn, x_min=-15, x_max=15, y_min=-15, y_max=15, step=0.25):\n",
        "    import numpy as np\n",
        "    xx, yy = np.meshgrid(np.arange(x_min, x_max, step),\n",
        "                         np.arange(y_min, y_max, step))\n",
        "\n",
        "    Xg = np.hstack((xx.ravel()[:, None], yy.ravel()[:, None]))\n",
        "\n",
        "    X_test = pt.from_numpy(Xg).to(pt.float)\n",
        "    y_test = forward_fn(X_test).argmax(dim=1).detach().numpy()\n",
        "\n",
        "    Z = -1 * y_test.reshape(xx.shape)\n",
        "\n",
        "    fig = plt.figure()\n",
        "    plt.axis(\"equal\")\n",
        "    plt.contourf(xx, yy, Z, cmap=plt.cm.Spectral, alpha=0.4);\n",
        "    num_points = X.shape[0] // 2  # Corrected from NUM\n",
        "    plt.scatter(X[:num_points, 0], X[:num_points, 1], color='orange');\n",
        "    plt.scatter(X[num_points:, 0], X[num_points:, 1])\n"
      ]
    },
    {
      "cell_type": "markdown",
      "metadata": {
        "id": "5JI-0dRHqY-s"
      },
      "source": [
        "## Generate a tuple of tensors for the `x` and `y` coordinates of the inner circle consisting of `100` data points by using the `circle` function.\n",
        "\n",
        "For example, if you use\n",
        "\n",
        "<code>\n",
        "  circle(100, radius_lower = 6., radius_upper=9.)\n",
        "</code>\n",
        "\n",
        "The function is going to return a tuple with two tensors, each with a shape of `torch.Size([100])`"
      ]
    },
    {
      "cell_type": "code",
      "execution_count": 21,
      "metadata": {
        "id": "Y6z8oIC9qCEZ"
      },
      "outputs": [],
      "source": [
        "inner_x, inner_y = circle(100, radius_lower=6., radius_upper=9.)\n"
      ]
    },
    {
      "cell_type": "markdown",
      "metadata": {
        "id": "deqKKSxFrEaa"
      },
      "source": [
        "## Figure out how to concatenate the `x` and `y` coordinates from the `circle` method into a single tensor\n",
        "\n",
        "The concatenated tensor should have a of shape `torch.Size([100, 2])`"
      ]
    },
    {
      "cell_type": "code",
      "execution_count": 22,
      "metadata": {
        "id": "_u3Q57maq_fw",
        "colab": {
          "base_uri": "https://localhost:8080/"
        },
        "outputId": "5de91555-9d99-429b-e712-f2eb14996570"
      },
      "outputs": [
        {
          "output_type": "execute_result",
          "data": {
            "text/plain": [
              "torch.Size([100, 2])"
            ]
          },
          "metadata": {},
          "execution_count": 22
        }
      ],
      "source": [
        "inner_circle = pt.stack([inner_x, inner_y], dim=1)\n",
        "inner_circle.shape  # should be torch.Size([100, 2])\n"
      ]
    },
    {
      "cell_type": "markdown",
      "metadata": {
        "id": "FJOA1M4lrTnq"
      },
      "source": [
        "## Do the same for the other circle\n",
        "\n",
        "For example, you can use\n",
        "\n",
        "<code>\n",
        "    circle(100, radius_lower = 13., radius_upper=14.)\n",
        "</code>\n",
        "\n",
        "to generate an outer circle.\n",
        "\n",
        "Don't forget to create a `torch.Size([100, 2])` tensor for the outer circle."
      ]
    },
    {
      "cell_type": "code",
      "execution_count": 23,
      "metadata": {
        "id": "c_vSClqirvDF"
      },
      "outputs": [],
      "source": [
        "outer_x, outer_y = circle(100, radius_lower=13., radius_upper=14.)\n"
      ]
    },
    {
      "cell_type": "markdown",
      "metadata": {
        "id": "QTk0JDEmr5yx"
      },
      "source": [
        "## Package the values for the circles into a single `X` tensor to use for training.\n",
        "\n",
        "Assuming that you used 100 data points per circle, you should end up with an `X` tensor shaped `torch.Size([200, 2])`"
      ]
    },
    {
      "cell_type": "code",
      "execution_count": 24,
      "metadata": {
        "id": "nQqi-88Sr6Hz",
        "colab": {
          "base_uri": "https://localhost:8080/"
        },
        "outputId": "8e3e22f9-29da-4912-c413-f16a54b62228"
      },
      "outputs": [
        {
          "output_type": "execute_result",
          "data": {
            "text/plain": [
              "torch.Size([100, 2])"
            ]
          },
          "metadata": {},
          "execution_count": 24
        }
      ],
      "source": [
        "outer_circle = pt.stack([outer_x, outer_y], dim=1)\n",
        "outer_circle.shape  # should be torch.Size([100, 2])\n"
      ]
    },
    {
      "cell_type": "markdown",
      "metadata": {
        "id": "_76vVNm9sKFx"
      },
      "source": [
        "Plot the circles using `scatter`.\n",
        "\n",
        "* **hint:** recall that you can use the `axis(\"equal\")` method to make the x and y axes equal"
      ]
    },
    {
      "cell_type": "code",
      "execution_count": 25,
      "metadata": {
        "id": "IXO_V4Bidn16",
        "colab": {
          "base_uri": "https://localhost:8080/",
          "height": 526
        },
        "outputId": "42172de0-c4bc-441a-bc88-fe31e68989c8"
      },
      "outputs": [
        {
          "output_type": "display_data",
          "data": {
            "text/plain": [
              "<Figure size 600x600 with 1 Axes>"
            ],
            "image/png": "[encoded data removed]"
          },
          "metadata": {}
        }
      ],
      "source": [
        "outer_circle = pt.stack([outer_x, outer_y], dim=1)\n",
        "outer_circle.shape  # should be torch.Size([100, 2])\n",
        "\n",
        "X = pt.cat([inner_circle, outer_circle])\n",
        "X.shape  # should be torch.Size([200, 2])\n",
        "\n",
        "plt.figure(figsize=(6,6))\n",
        "plt.axis(\"equal\")\n",
        "plt.scatter(X[:100, 0], X[:100, 1], color=\"orange\", label=\"Inner Circle\")\n",
        "plt.scatter(X[100:, 0], X[100:, 1], color=\"blue\", label=\"Outer Circle\")\n",
        "plt.legend()\n",
        "plt.show()\n"
      ]
    },
    {
      "cell_type": "markdown",
      "metadata": {
        "id": "npXFl9QPtNVX"
      },
      "source": [
        "## Generate the `y` tensor with the classes for each of the circles.\n",
        "\n",
        "PyTorch loss function does not use one-hot encoding and instead relies on ordinal encoding, where each integer represents a different class. For example, one of your circles would be `0`, another circle `1`, next `2`, and so one.\n",
        "\n",
        "In this example you only have 2 circles, so use `0` for one of the circles and `1` for another. Your `y` tensor should have a shape of `torch.Size([200])`"
      ]
    },
    {
      "cell_type": "code",
      "execution_count": 26,
      "metadata": {
        "id": "WGbYkWovfo8s",
        "colab": {
          "base_uri": "https://localhost:8080/"
        },
        "outputId": "6d81b766-a7a7-4167-8a4a-ee6afa7fee2a"
      },
      "outputs": [
        {
          "output_type": "execute_result",
          "data": {
            "text/plain": [
              "torch.Size([200])"
            ]
          },
          "metadata": {},
          "execution_count": 26
        }
      ],
      "source": [
        "y = pt.cat([pt.zeros(100, dtype=pt.long), pt.ones(100, dtype=pt.long)])\n",
        "y.shape  # should be torch.Size([200])\n"
      ]
    },
    {
      "cell_type": "markdown",
      "metadata": {
        "id": "BtoxNL3-t30z"
      },
      "source": [
        "## Create a neural net using `nn.Sequential`.\n",
        "\n",
        "It should have a single hidden layer with 3 neurons. All `nn.Linear` layers should use `nn.ReLU` activation function.The output layer should have `nn.LogSoftmax` after the activation function.\n",
        "\n",
        "Don't forget that softmax assumes one-hot encoding for the outputs!"
      ]
    },
    {
      "cell_type": "code",
      "execution_count": 27,
      "metadata": {
        "id": "6M-TZcgAv8Zl"
      },
      "outputs": [],
      "source": [
        "model = nn.Sequential(\n",
        "    nn.Linear(2, 3),  # Input layer (2 features) -> Hidden layer (3 neurons)\n",
        "    nn.ReLU(),\n",
        "    nn.Linear(3, 2),  # Hidden layer (3 neurons) -> Output layer (2 classes)\n",
        "    nn.LogSoftmax(dim=1)  # LogSoftmax for classification\n",
        ")\n"
      ]
    },
    {
      "cell_type": "markdown",
      "metadata": {
        "id": "SAmB0Fq2wAB7"
      },
      "source": [
        "## Implement the `forward` function.\n",
        "\n",
        "If your `nn.Sequential` is named `model`, then the forward pass can be as simple as returning `model(X)`."
      ]
    },
    {
      "cell_type": "code",
      "execution_count": 28,
      "metadata": {
        "id": "TjcW4Ww6OoFR"
      },
      "outputs": [],
      "source": [
        "def forward(X):\n",
        "    return model(X)\n"
      ]
    },
    {
      "cell_type": "markdown",
      "metadata": {
        "id": "lIpAkQm7wLN1"
      },
      "source": [
        "## Complete the implementation of the cross entropy loss\n",
        "\n",
        "If you used `nn.LogSoftmax` as the output layer of your model, you can use the negative log likelihood loss on the output of the softmax layer from `nn.functional.nll_loss`."
      ]
    },
    {
      "cell_type": "code",
      "execution_count": 29,
      "metadata": {
        "id": "8m87DmnKwgB_"
      },
      "outputs": [],
      "source": [
        "loss_fn = nn.NLLLoss()\n"
      ]
    },
    {
      "cell_type": "markdown",
      "metadata": {
        "id": "3sLVBemiwpsl"
      },
      "source": [
        "## Implement a `metric` method that computes the prediction accuracy\n",
        "\n",
        "The accuracy should be on a scale from `0.0` to `1.0`"
      ]
    },
    {
      "cell_type": "code",
      "execution_count": 30,
      "metadata": {
        "id": "NanRJR3ZxGlH"
      },
      "outputs": [],
      "source": [
        "def accuracy(predictions, labels):\n",
        "    pred_labels = predictions.argmax(dim=1)\n",
        "    return (pred_labels == labels).float().mean().item()\n"
      ]
    },
    {
      "cell_type": "markdown",
      "metadata": {
        "id": "r2EH_XMsxJ7Y"
      },
      "source": [
        "## Create an instance of the `optim.AdamW` optimizer\n",
        "\n",
        "* **hint:** if you used `model` as the name of your instance of `nn.Sequential`, then `model.parameters()` can be used to create the optimizer"
      ]
    },
    {
      "cell_type": "code",
      "execution_count": 31,
      "metadata": {
        "id": "joFAHFZJxHrb"
      },
      "outputs": [],
      "source": [
        "optimizer = pt.optim.AdamW(model.parameters(), lr=0.01)\n"
      ]
    },
    {
      "cell_type": "markdown",
      "metadata": {
        "id": "lHG0JPNXyiNi"
      },
      "source": [
        "## Use the optimizer to discover the neural net weights for classification\n",
        "\n",
        "You may need to perform thousands of steps of gradient descent. Don't forget to properly perform the forward and backward passes. If your instance of `AdamW` is named `optimizer`, then you can perform a gradient descent step using `optimizer.step()`. To zero out the gradients in the model, you can use `optimizer.zero_grad()`."
      ]
    },
    {
      "cell_type": "code",
      "execution_count": 32,
      "metadata": {
        "id": "36YBZELoYITn",
        "colab": {
          "base_uri": "https://localhost:8080/"
        },
        "outputId": "5f8528a5-d28f-42dd-a812-a7260c275974"
      },
      "outputs": [
        {
          "output_type": "stream",
          "name": "stdout",
          "text": [
            "Epoch 0: Loss = 1.2098, Accuracy = 0.5000\n",
            "Epoch 500: Loss = 0.1127, Accuracy = 0.9950\n",
            "Epoch 1000: Loss = 0.0576, Accuracy = 1.0000\n",
            "Epoch 1500: Loss = 0.0359, Accuracy = 1.0000\n",
            "Epoch 2000: Loss = 0.0250, Accuracy = 1.0000\n",
            "Epoch 2500: Loss = 0.0186, Accuracy = 1.0000\n"
          ]
        }
      ],
      "source": [
        "epochs = 3000\n",
        "for epoch in range(epochs):\n",
        "    optimizer.zero_grad()\n",
        "\n",
        "    y_pred = forward(X)\n",
        "    loss = loss_fn(y_pred, y)\n",
        "\n",
        "    loss.backward()\n",
        "    optimizer.step()\n",
        "\n",
        "    if epoch % 500 == 0:\n",
        "        acc = accuracy(y_pred, y)\n",
        "        print(f\"Epoch {epoch}: Loss = {loss.item():.4f}, Accuracy = {acc:.4f}\")\n"
      ]
    },
    {
      "cell_type": "markdown",
      "metadata": {
        "id": "A92cBIwjzFx9"
      },
      "source": [
        "The `decision_boundary` function declared previously in this notebook uses a grid of test data points to draw the decision boundary for your model. The grid is like a grid on graph paper, so that for every point on the grid, you are going to use the `forward` method of your model to find out the predicted values for the points and color the grid accordingly.\n",
        "\n",
        "The `no_grad` function disables gradient calculations when performing the `forward`.\n",
        "\n"
      ]
    },
    {
      "cell_type": "code",
      "execution_count": 33,
      "metadata": {
        "id": "fVX4sukThQcg",
        "colab": {
          "base_uri": "https://localhost:8080/",
          "height": 430
        },
        "outputId": "5ac1381a-4612-4ff9-8dfc-b4753159cd47"
      },
      "outputs": [
        {
          "output_type": "display_data",
          "data": {
            "text/plain": [
              "<Figure size 640x480 with 1 Axes>"
            ],
            "image/png": "[encoded data removed]"
          },
          "metadata": {}
        }
      ],
      "source": [
        "with pt.no_grad():\n",
        "  decision_boundary(forward)"
      ]
    },
    {
      "cell_type": "code",
      "source": [
        "with pt.no_grad():\n",
        "    decision_boundary(forward)\n"
      ],
      "metadata": {
        "id": "LtMGqWs9_JeM",
        "outputId": "79f811e4-c8aa-481e-caca-c711fcc9e7b7",
        "colab": {
          "base_uri": "https://localhost:8080/",
          "height": 430
        }
      },
      "execution_count": 34,
      "outputs": [
        {
          "output_type": "display_data",
          "data": {
            "text/plain": [
              "<Figure size 640x480 with 1 Axes>"
            ],
            "image/png": "[encoded data removed]"
          },
          "metadata": {}
        }
      ]
    },
    {
      "cell_type": "code",
      "source": [],
      "metadata": {
        "id": "2D0i18Ju_LxF"
      },
      "execution_count": 34,
      "outputs": []
    }
  ],
  "metadata": {
    "accelerator": "GPU",
    "colab": {
      "provenance": [],
      "include_colab_link": true
    },
    "kernelspec": {
      "display_name": "Python 3 (ipykernel)",
      "language": "python",
      "name": "python3"
    },
    "language_info": {
      "codemirror_mode": {
        "name": "ipython",
        "version": 3
      },
      "file_extension": ".py",
      "mimetype": "text/x-python",
      "name": "python",
      "nbconvert_exporter": "python",
      "pygments_lexer": "ipython3",
      "version": "3.9.1"
    }
  },
  "nbformat": 4,
  "nbformat_minor": 0
}